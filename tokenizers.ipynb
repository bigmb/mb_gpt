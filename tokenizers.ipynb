{
 "cells": [
  {
   "cell_type": "code",
   "execution_count": 1,
   "metadata": {},
   "outputs": [],
   "source": [
    "## testing text based"
   ]
  },
  {
   "cell_type": "code",
   "execution_count": 2,
   "metadata": {},
   "outputs": [],
   "source": [
    "from mb_gpt.tokenizers.dataloader import VITokenizerDataset, TokenizerDataset, TokenizerDataLoader\n",
    "from mb_gpt.tokenizers.base import Tokenizer,VITokenizer"
   ]
  },
  {
   "cell_type": "code",
   "execution_count": 3,
   "metadata": {},
   "outputs": [
    {
     "name": "stdout",
     "output_type": "stream",
     "text": [
      "\u001b[0;31mInit signature:\u001b[0m \u001b[0mTokenizer\u001b[0m\u001b[0;34m(\u001b[0m\u001b[0;34m)\u001b[0m \u001b[0;34m->\u001b[0m \u001b[0;32mNone\u001b[0m\u001b[0;34m\u001b[0m\u001b[0;34m\u001b[0m\u001b[0m\n",
      "\u001b[0;31mDocstring:\u001b[0m      Base tokenizer class for the GPT model.\n",
      "\u001b[0;31mInit docstring:\u001b[0m Initialize internal Module state, shared by both nn.Module and ScriptModule.\n",
      "\u001b[0;31mFile:\u001b[0m           ~/Desktop/mb_packages/mb_gpt/mb_gpt/tokenizers/base.py\n",
      "\u001b[0;31mType:\u001b[0m           type\n",
      "\u001b[0;31mSubclasses:\u001b[0m     "
     ]
    }
   ],
   "source": [
    "Tokenizer?"
   ]
  },
  {
   "cell_type": "code",
   "execution_count": 4,
   "metadata": {},
   "outputs": [],
   "source": [
    "with open('./data/the-verdict.txt','r') as fp:\n",
    "    data = fp.read()"
   ]
  },
  {
   "cell_type": "code",
   "execution_count": 5,
   "metadata": {},
   "outputs": [
    {
     "data": {
      "text/plain": [
       "'I HAD always thought Jack Gisburn rather a cheap genius--though a good fellow enough--so it was no great surprise to me to hear that, in the height of his glory, he had dropped his painting, married a rich widow, and established himself in a villa on the Riviera. (Though I rather thought it would have been Rome or Florence.)\\n\\n\"The height of his glory\"--that was what the women called it. I can hear Mrs. Gideon Thwing--his last Chicago sitter--deploring his unaccountable abdication. \"Of course it\\'s going to send the value of my picture \\'way up; but I don\\'t think of that, Mr. Rickham--the loss to Arrt is all I think of.\" The word, on Mrs. Thwing\\'s lips, multiplied its _rs_ as though they were reflected in an endless vista of mirrors. And it was not only the Mrs. Thwings who mourned. Had not the exquisite Hermia Croft, at the last Grafton Gallery show, stopped me before Gisburn\\'s \"Moon-dancers\" to say, with tears in her eyes: \"We shall not look upon its like again\"?\\n\\nWell!--even through the prism of Hermia\\'s tears I felt able to face the fact with equanimity. Poor Jack Gisburn! The women had made him--it was fitting that they should mourn him. Among his own sex fewer regrets were heard, and in his own trade hardly a murmur. Professional jealousy? Perhaps. If it were, the honour of the craft was vindicated by little Claude Nutley, who, in all good faith, brought out in the Burlington a very handsome \"obituary\" on Jack--one of those showy articles stocked with random technicalities that I have heard (I won\\'t say by whom) compared to Gisburn\\'s painting. And so--his resolve being apparently irrevocable--the discussion gradually died out, and, as Mrs. Thwing had predicted, the price of \"Gisburns\" went up.\\n\\nIt was not till three years later that, in the course of a few weeks\\' idling on the Riviera, it suddenly occurred to me to wonder why Gisburn had given up his painting. On reflection, it really was a tempting problem. To accuse his wife would have been too easy--his fair sitters had been denied the solace of saying that Mrs. Gisburn had \"dragged him down.\" For Mrs. Gisburn--as such--had not existed till nearly a year after Jack\\'s resolve had been taken. It might be that he had married her--since he liked his ease--because he didn\\'t want to go on painting; but it would have been hard to prove that he had given up his painting because he had married her.\\n\\nOf course, if she had not dragged him down, she had equally, as Miss Croft contended, failed to \"lift him up\"--she had not led him back to the easel. To put the brush into his hand again--what a vocation for a wife! But Mrs. Gisburn appeared to have disdained it--and I felt it might be interesting to find out why.\\n\\nThe desultory life of the Riviera lends itself to such purely academic speculations; and having, on my way to Monte Carlo, caught a glimpse of Jack\\'s balustraded terraces between the pines, I had myself borne thither the next day.\\n\\nI found the couple at tea beneath their palm-trees; and Mrs. Gisburn\\'s welcome was so genial that, in the ensuing weeks, I claimed it frequently. It was not that my hostess was \"interesting\": on that point I could have given Miss Croft the fullest reassurance. It was just because she was _not_ interesting--if I may be pardoned the bull--that I found her so. For Jack, all his life, had been surrounded by interesting women: they had fostered his art, it had been reared in the hot-house of their adulation. And it was therefore instructive to note what effect the \"deadening atmosphere of mediocrity\" (I quote Miss Croft) was having on him.\\n\\nI have mentioned that Mrs. Gisburn was rich; and it was immediately perceptible that her husband was extracting from this circumstance a delicate but substantial satisfaction. It is, as a rule, the people who scorn money who get most out of it; and Jack\\'s elegant disdain of his wife\\'s big balance enabled him, with an appearance of perfect good-breeding, to transmute it into objects of art and luxury. To the latter, I must add, he remained relatively indifferent; but he was buying Renaissance bronzes and eighteenth-century pictures with a discrimination that bespoke the amplest resources.\\n\\n\"Money\\'s only excuse is to put beauty into circulation,\" was one of the axioms he laid down across the Sevres and silver of an exquisitely appointed luncheon-table, when, on a later day, I had again run over from Monte Carlo; and Mrs. Gisburn, beaming on him, added for my enlightenment: \"Jack is so morbidly sensitive to every form of beauty.\"\\n\\nPoor Jack! It had always been his fate to have women say such things of him: the fact should be set down in extenuation. What struck me now was that, for the first time, he resented the tone. I had seen him, so often, basking under similar tributes--was it the conjugal note that robbed them of their savour? No--for, oddly enough, it became apparent that he was fond of Mrs. Gisburn--fond enough not to see her absurdity. It was his own absurdity he seemed to be wincing under--his own attitude as an object for garlands and incense.\\n\\n\"My dear, since I\\'ve chucked painting people don\\'t say that stuff about me--they say it about Victor Grindle,\" was his only protest, as he rose from the table and strolled out onto the sunlit terrace.\\n\\nI glanced after him, struck by his last word. Victor Grindle was, in fact, becoming the man of the moment--as Jack himself, one might put it, had been the man of the hour. The younger artist was said to have formed himself at my friend\\'s feet, and I wondered if a tinge of jealousy underlay the latter\\'s mysterious abdication. But no--for it was not till after that event that the _rose Dubarry_ drawing-rooms had begun to display their \"Grindles.\"\\n\\nI turned to Mrs. Gisburn, who had lingered to give a lump of sugar to her spaniel in the dining-room.\\n\\n\"Why _has_ he chucked painting?\" I asked abruptly.\\n\\nShe raised her eyebrows with a hint of good-humoured surprise.\\n\\n\"Oh, he doesn\\'t _have_ to now, you know; and I want him to enjoy himself,\" she said quite simply.\\n\\nI looked about the spacious white-panelled room, with its _famille-verte_ vases repeating the tones of the pale damask curtains, and its eighteenth-century pastels in delicate faded frames.\\n\\n\"Has he chucked his pictures too? I haven\\'t seen a single one in the house.\"\\n\\nA slight shade of constraint crossed Mrs. Gisburn\\'s open countenance. \"It\\'s his ridiculous modesty, you know. He says they\\'re not fit to have about; he\\'s sent them all away except one--my portrait--and that I have to keep upstairs.\"\\n\\nHis ridiculous modesty--Jack\\'s modesty about his pictures? My curiosity was growing like the bean-stalk. I said persuasively to my hostess: \"I must really see your portrait, you know.\"\\n\\nShe glanced out almost timorously at the terrace where her husband, lounging in a hooded chair, had lit a cigar and drawn the Russian deerhound\\'s head between his knees.\\n\\n\"Well, come while he\\'s not looking,\" she said, with a laugh that tried to hide her nervousness; and I followed her between the marble Emperors of the hall, and up the wide stairs with terra-cotta nymphs poised among flowers at each landing.\\n\\nIn the dimmest corner of her boudoir, amid a profusion of delicate and distinguished objects, hung one of the familiar oval canvases, in the inevitable garlanded frame. The mere outline of the frame called up all Gisburn\\'s past!\\n\\nMrs. Gisburn drew back the window-curtains, moved aside a _jardiniere_ full of pink azaleas, pushed an arm-chair away, and said: \"If you stand here you can just manage to see it. I had it over the mantel-piece, but he wouldn\\'t let it stay.\"\\n\\nYes--I could just manage to see it--the first portrait of Jack\\'s I had ever had to strain my eyes over! Usually they had the place of honour--say the central panel in a pale yellow or _rose Dubarry_ drawing-room, or a monumental easel placed so that it took the light through curtains of old Venetian point. The more modest place became the picture better; yet, as my eyes grew accustomed to the half-light, all the characteristic qualities came out--all the hesitations disguised as audacities, the tricks of prestidigitation by which, with such consummate skill, he managed to divert attention from the real business of the picture to some pretty irrelevance of detail. Mrs. Gisburn, presenting a neutral surface to work on--forming, as it were, so inevitably the background of her own picture--had lent herself in an unusual degree to the display of this false virtuosity. The picture was one of Jack\\'s \"strongest,\" as his admirers would have put it--it represented, on his part, a swelling of muscles, a congesting of veins, a balancing, straddling and straining, that reminded one of the circus-clown\\'s ironic efforts to lift a feather. It met, in short, at every point the demand of lovely woman to be painted \"strongly\" because she was tired of being painted \"sweetly\"--and yet not to lose an atom of the sweetness.\\n\\n\"It\\'s the last he painted, you know,\" Mrs. Gisburn said with pardonable pride. \"The last but one,\" she corrected herself--\"but the other doesn\\'t count, because he destroyed it.\"\\n\\n\"Destroyed it?\" I was about to follow up this clue when I heard a footstep and saw Jack himself on the threshold.\\n\\nAs he stood there, his hands in the pockets of his velveteen coat, the thin brown waves of hair pushed back from his white forehead, his lean sunburnt cheeks furrowed by a smile that lifted the tips of a self-confident moustache, I felt to what a degree he had the same quality as his pictures--the quality of looking cleverer than he was.\\n\\nHis wife glanced at him deprecatingly, but his eyes travelled past her to the portrait.\\n\\n\"Mr. Rickham wanted to see it,\" she began, as if excusing herself. He shrugged his shoulders, still smiling.\\n\\n\"Oh, Rickham found me out long ago,\" he said lightly; then, passing his arm through mine: \"Come and see the rest of the house.\"\\n\\nHe showed it to me with a kind of naive suburban pride: the bath-rooms, the speaking-tubes, the dress-closets, the trouser-presses--all the complex simplifications of the millionaire\\'s domestic economy. And whenever my wonder paid the expected tribute he said, throwing out his chest a little: \"Yes, I really don\\'t see how people manage to live without that.\"\\n\\nWell--it was just the end one might have foreseen for him. Only he was, through it all and in spite of it all--as he had been through, and in spite of, his pictures--so handsome, so charming, so disarming, that one longed to cry out: \"Be dissatisfied with your leisure!\" as once one had longed to say: \"Be dissatisfied with your work!\"\\n\\nBut, with the cry on my lips, my diagnosis suffered an unexpected check.\\n\\n\"This is my own lair,\" he said, leading me into a dark plain room at the end of the florid vista. It was square and brown and leathery: no \"effects\"; no bric-a-brac, none of the air of posing for reproduction in a picture weekly--above all, no least sign of ever having been used as a studio.\\n\\nThe fact brought home to me the absolute finality of Jack\\'s break with his old life.\\n\\n\"Don\\'t you ever dabble with paint any more?\" I asked, still looking about for a trace of such activity.\\n\\n\"Never,\" he said briefly.\\n\\n\"Or water-colour--or etching?\"\\n\\nHis confident eyes grew dim, and his cheeks paled a little under their handsome sunburn.\\n\\n\"Never think of it, my dear fellow--any more than if I\\'d never touched a brush.\"\\n\\nAnd his tone told me in a flash that he never thought of anything else.\\n\\nI moved away, instinctively embarrassed by my unexpected discovery; and as I turned, my eye fell on a small picture above the mantel-piece--the only object breaking the plain oak panelling of the room.\\n\\n\"Oh, by Jove!\" I said.\\n\\nIt was a sketch of a donkey--an old tired donkey, standing in the rain under a wall.\\n\\n\"By Jove--a Stroud!\" I cried.\\n\\nHe was silent; but I felt him close behind me, breathing a little quickly.\\n\\n\"What a wonder! Made with a dozen lines--but on everlasting foundations. You lucky chap, where did you get it?\"\\n\\nHe answered slowly: \"Mrs. Stroud gave it to me.\"\\n\\n\"Ah--I didn\\'t know you even knew the Strouds. He was such an inflexible hermit.\"\\n\\n\"I didn\\'t--till after. . . . She sent for me to paint him when he was dead.\"\\n\\n\"When he was dead? You?\"\\n\\nI must have let a little too much amazement escape through my surprise, for he answered with a deprecating laugh: \"Yes--she\\'s an awful simpleton, you know, Mrs. Stroud. Her only idea was to have him done by a fashionable painter--ah, poor Stroud! She thought it the surest way of proclaiming his greatness--of forcing it on a purblind public. And at the moment I was _the_ fashionable painter.\"\\n\\n\"Ah, poor Stroud--as you say. Was _that_ his history?\"\\n\\n\"That was his history. She believed in him, gloried in him--or thought she did. But she couldn\\'t bear not to have all the drawing-rooms with her. She couldn\\'t bear the fact that, on varnishing days, one could always get near enough to see his pictures. Poor woman! She\\'s just a fragment groping for other fragments. Stroud is the only whole I ever knew.\"\\n\\n\"You ever knew? But you just said--\"\\n\\nGisburn had a curious smile in his eyes.\\n\\n\"Oh, I knew him, and he knew me--only it happened after he was dead.\"\\n\\nI dropped my voice instinctively. \"When she sent for you?\"\\n\\n\"Yes--quite insensible to the irony. She wanted him vindicated--and by me!\"\\n\\nHe laughed again, and threw back his head to look up at the sketch of the donkey. \"There were days when I couldn\\'t look at that thing--couldn\\'t face it. But I forced myself to put it here; and now it\\'s cured me--cured me. That\\'s the reason why I don\\'t dabble any more, my dear Rickham; or rather Stroud himself is the reason.\"\\n\\nFor the first time my idle curiosity about my companion turned into a serious desire to understand him better.\\n\\n\"I wish you\\'d tell me how it happened,\" I said.\\n\\nHe stood looking up at the sketch, and twirling between his fingers a cigarette he had forgotten to light. Suddenly he turned toward me.\\n\\n\"I\\'d rather like to tell you--because I\\'ve always suspected you of loathing my work.\"\\n\\nI made a deprecating gesture, which he negatived with a good-humoured shrug.\\n\\n\"Oh, I didn\\'t care a straw when I believed in myself--and now it\\'s an added tie between us!\"\\n\\nHe laughed slightly, without bitterness, and pushed one of the deep arm-chairs forward. \"There: make yourself comfortable--and here are the cigars you like.\"\\n\\nHe placed them at my elbow and continued to wander up and down the room, stopping now and then beneath the picture.\\n\\n\"How it happened? I can tell you in five minutes--and it didn\\'t take much longer to happen. . . . I can remember now how surprised and pleased I was when I got Mrs. Stroud\\'s note. Of course, deep down, I had always _felt_ there was no one like him--only I had gone with the stream, echoed the usual platitudes about him, till I half got to think he was a failure, one of the kind that are left behind. By Jove, and he _was_ left behind--because he had come to stay! The rest of us had to let ourselves be swept along or go under, but he was high above the current--on everlasting foundations, as you say.\\n\\n\"Well, I went off to the house in my most egregious mood--rather moved, Lord forgive me, at the pathos of poor Stroud\\'s career of failure being crowned by the glory of my painting him! Of course I meant to do the picture for nothing--I told Mrs. Stroud so when she began to stammer something about her poverty. I remember getting off a prodigious phrase about the honour being _mine_--oh, I was princely, my dear Rickham! I was posing to myself like one of my own sitters.\\n\\n\"Then I was taken up and left alone with him. I had sent all my traps in advance, and I had only to set up the easel and get to work. He had been dead only twenty-four hours, and he died suddenly, of heart disease, so that there had been no preliminary work of destruction--his face was clear and untouched. I had met him once or twice, years before, and thought him insignificant and dingy. Now I saw that he was superb.\\n\\n\"I was glad at first, with a merely aesthetic satisfaction: glad to have my hand on such a \\'subject.\\' Then his strange life-likeness began to affect me queerly--as I blocked the head in I felt as if he were watching me do it. The sensation was followed by the thought: if he _were_ watching me, what would he say to my way of working? My strokes began to go a little wild--I felt nervous and uncertain.\\n\\n\"Once, when I looked up, I seemed to see a smile behind his close grayish beard--as if he had the secret, and were amusing himself by holding it back from me. That exasperated me still more. The secret? Why, I had a secret worth twenty of his! I dashed at the canvas furiously, and tried some of my bravura tricks. But they failed me, they crumbled. I saw that he wasn\\'t watching the showy bits--I couldn\\'t distract his attention; he just kept his eyes on the hard passages between. Those were the ones I had always shirked, or covered up with some lying paint. And how he saw through my lies!\\n\\n\"I looked up again, and caught sight of that sketch of the donkey hanging on the wall near his bed. His wife told me afterward it was the last thing he had done--just a note taken with a shaking hand, when he was down in Devonshire recovering from a previous heart attack. Just a note! But it tells his whole history. There are years of patient scornful persistence in every line. A man who had swum with the current could never have learned that mighty up-stream stroke. . . .\\n\\n\"I turned back to my work, and went on groping and muddling; then I looked at the donkey again. I saw that, when Stroud laid in the first stroke, he knew just what the end would be. He had possessed his subject, absorbed it, recreated it. When had I done that with any of my things? They hadn\\'t been born of me--I had just adopted them. . . .\\n\\n\"Hang it, Rickham, with that face watching me I couldn\\'t do another stroke. The plain truth was, I didn\\'t know where to put it--_I had never known_. Only, with my sitters and my public, a showy splash of colour covered up the fact--I just threw paint into their faces. . . . Well, paint was the one medium those dead eyes could see through--see straight to the tottering foundations underneath. Don\\'t you know how, in talking a foreign language, even fluently, one says half the time not what one wants to but what one can? Well--that was the way I painted; and as he lay there and watched me, the thing they called my \\'technique\\' collapsed like a house of cards. He didn\\'t sneer, you understand, poor Stroud--he just lay there quietly watching, and on his lips, through the gray beard, I seemed to hear the question: \\'Are you sure you know where you\\'re coming out?\\'\\n\\n\"If I could have painted that face, with that question on it, I should have done a great thing. The next greatest thing was to see that I couldn\\'t--and that grace was given me. But, oh, at that minute, Rickham, was there anything on earth I wouldn\\'t have given to have Stroud alive before me, and to hear him say: \\'It\\'s not too late--I\\'ll show you how\\'?\\n\\n\"It _was_ too late--it would have been, even if he\\'d been alive. I packed up my traps, and went down and told Mrs. Stroud. Of course I didn\\'t tell her _that_--it would have been Greek to her. I simply said I couldn\\'t paint him, that I was too moved. She rather liked the idea--she\\'s so romantic! It was that that made her give me the donkey. But she was terribly upset at not getting the portrait--she did so want him \\'done\\' by some one showy! At first I was afraid she wouldn\\'t let me off--and at my wits\\' end I suggested Grindle. Yes, it was I who started Grindle: I told Mrs. Stroud he was the \\'coming\\' man, and she told somebody else, and so it got to be true. . . . And he painted Stroud without wincing; and she hung the picture among her husband\\'s things. . . .\"\\n\\nHe flung himself down in the arm-chair near mine, laid back his head, and clasping his arms beneath it, looked up at the picture above the chimney-piece.\\n\\n\"I like to fancy that Stroud himself would have given it to me, if he\\'d been able to say what he thought that day.\"\\n\\nAnd, in answer to a question I put half-mechanically--\"Begin again?\" he flashed out. \"When the one thing that brings me anywhere near him is that I knew enough to leave off?\"\\n\\nHe stood up and laid his hand on my shoulder with a laugh. \"Only the irony of it is that I _am_ still painting--since Grindle\\'s doing it for me! The Strouds stand alone, and happen once--but there\\'s no exterminating our kind of art.\"'"
      ]
     },
     "execution_count": 5,
     "metadata": {},
     "output_type": "execute_result"
    }
   ],
   "source": [
    "data"
   ]
  },
  {
   "cell_type": "code",
   "execution_count": 6,
   "metadata": {},
   "outputs": [],
   "source": [
    "tokenizer = Tokenizer()"
   ]
  },
  {
   "cell_type": "code",
   "execution_count": 7,
   "metadata": {},
   "outputs": [
    {
     "ename": "ValueError",
     "evalue": "No tokenizer or vocabulary loaded.",
     "output_type": "error",
     "traceback": [
      "\u001b[0;31m---------------------------------------------------------------------------\u001b[0m",
      "\u001b[0;31mValueError\u001b[0m                                Traceback (most recent call last)",
      "Cell \u001b[0;32mIn[7], line 1\u001b[0m\n\u001b[0;32m----> 1\u001b[0m \u001b[43mtokenizer\u001b[49m\u001b[38;5;241;43m.\u001b[39;49m\u001b[43mencode\u001b[49m\u001b[43m(\u001b[49m\u001b[43mdata\u001b[49m\u001b[43m[\u001b[49m\u001b[43m:\u001b[49m\u001b[38;5;241;43m10\u001b[39;49m\u001b[43m]\u001b[49m\u001b[43m)\u001b[49m\n",
      "File \u001b[0;32m~/Desktop/mb_packages/mb_gpt/mb_gpt/tokenizers/base.py:102\u001b[0m, in \u001b[0;36mTokenizer.encode\u001b[0;34m(self, text)\u001b[0m\n\u001b[1;32m    100\u001b[0m \u001b[38;5;28;01mif\u001b[39;00m \u001b[38;5;28mself\u001b[39m\u001b[38;5;241m.\u001b[39menc \u001b[38;5;129;01mis\u001b[39;00m \u001b[38;5;28;01mNone\u001b[39;00m:\n\u001b[1;32m    101\u001b[0m     \u001b[38;5;28;01mif\u001b[39;00m \u001b[38;5;28mself\u001b[39m\u001b[38;5;241m.\u001b[39mvocab \u001b[38;5;129;01mis\u001b[39;00m \u001b[38;5;28;01mNone\u001b[39;00m:\n\u001b[0;32m--> 102\u001b[0m         \u001b[38;5;28;01mraise\u001b[39;00m \u001b[38;5;167;01mValueError\u001b[39;00m(\u001b[38;5;124m\"\u001b[39m\u001b[38;5;124mNo tokenizer or vocabulary loaded.\u001b[39m\u001b[38;5;124m\"\u001b[39m)\n\u001b[1;32m    103\u001b[0m     \u001b[38;5;28;01mreturn\u001b[39;00m \u001b[38;5;28mself\u001b[39m\u001b[38;5;241m.\u001b[39m_encode_text(text)\n\u001b[1;32m    104\u001b[0m \u001b[38;5;28;01mreturn\u001b[39;00m \u001b[38;5;28mself\u001b[39m\u001b[38;5;241m.\u001b[39menc\u001b[38;5;241m.\u001b[39mencode(text)\n",
      "\u001b[0;31mValueError\u001b[0m: No tokenizer or vocabulary loaded."
     ]
    }
   ],
   "source": [
    "tokenizer.encode(data[:10])"
   ]
  },
  {
   "cell_type": "code",
   "execution_count": 10,
   "metadata": {},
   "outputs": [
    {
     "name": "stdout",
     "output_type": "stream",
     "text": [
      "Vocabulary size: 1254\n",
      "\n",
      "\n",
      ": 0\n",
      " : 1\n",
      " A: 2\n",
      " Among: 3\n",
      " And: 4\n",
      " Arrt: 5\n",
      " At: 6\n",
      " Burlington: 7\n",
      " But: 8\n",
      " By: 9\n",
      " Carlo: 10\n",
      " Chicago: 11\n"
     ]
    }
   ],
   "source": [
    "vocab = tokenizer._build_vocab(tokenizer._convert_split_text(data))"
   ]
  },
  {
   "cell_type": "code",
   "execution_count": 24,
   "metadata": {},
   "outputs": [
    {
     "data": {
      "text/plain": [
       "dict_items([('\\n\\n', 0), (' ', 1), (' A', 2), (' Among', 3), (' And', 4), (' Arrt', 5), (' At', 6), (' Burlington', 7), (' But', 8), (' By', 9), (' Carlo', 10), (' Chicago', 11), (' Claude', 12), (' Croft', 13), (' Devonshire', 14), (' Don', 15), (' Dubarry', 16), (' Emperors', 17), (' Florence', 18), (' For', 19), (' Gallery', 20), (' Gideon', 21), (' Gisburn', 22), (' Grafton', 23), (' Greek', 24), (' Grindle', 25), (' HAD', 26), (' Had', 27), (' He', 28), (' Her', 29), (' Hermia', 30), (' His', 31), (' I', 32), (' If', 33), (' It', 34), (' Jack', 35), (' Jove', 36), (' Just', 37), (' Lord', 38), (' Made', 39), (' Miss', 40), (' Monte', 41), (' Mr', 42), (' Mrs', 43), (' My', 44), (' No', 45), (' Now', 46), (' Nutley', 47), (' Of', 48), (' On', 49), (' Only', 50), (' Perhaps', 51), (' Poor', 52), (' Professional', 53), (' Renaissance', 54), (' Rickham', 55), (' Riviera', 56), (' Rome', 57), (' Russian', 58), (' Sevres', 59), (' She', 60), (' Stroud', 61), (' Strouds', 62), (' Suddenly', 63), (' That', 64), (' The', 65), (' Then', 66), (' There', 67), (' They', 68), (' Those', 69), (' Thwing', 70), (' Thwings', 71), (' To', 72), (' Usually', 73), (' Venetian', 74), (' Victor', 75), (' Was', 76), (' Well', 77), (' What', 78), (' When', 79), (' Why', 80), (' Yes', 81), (' You', 82), (' a', 83), (' abdication', 84), (' able', 85), (' about', 86), (' above', 87), (' abruptly', 88), (' absolute', 89), (' absorbed', 90), (' absurdity', 91), (' academic', 92), (' accuse', 93), (' accustomed', 94), (' across', 95), (' activity', 96), (' add', 97), (' added', 98), (' admirers', 99), (' adopted', 100), (' adulation', 101), (' advance', 102), (' aesthetic', 103), (' affect', 104), (' afraid', 105), (' after', 106), (' afterward', 107), (' again', 108), (' ago', 109), (' air', 110), (' alive', 111), (' all', 112), (' almost', 113), (' alone', 114), (' along', 115), (' always', 116), (' amazement', 117), (' amid', 118), (' among', 119), (' amplest', 120), (' amusing', 121), (' an', 122), (' and', 123), (' another', 124), (' answer', 125), (' answered', 126), (' any', 127), (' anything', 128), (' anywhere', 129), (' apparent', 130), (' apparently', 131), (' appearance', 132), (' appeared', 133), (' appointed', 134), (' are', 135), (' arm', 136), (' arms', 137), (' art', 138), (' articles', 139), (' artist', 140), (' as', 141), (' aside', 142), (' asked', 143), (' at', 144), (' atmosphere', 145), (' atom', 146), (' attack', 147), (' attention', 148), (' attitude', 149), (' audacities', 150), (' away', 151), (' awful', 152), (' axioms', 153), (' azaleas', 154), (' back', 155), (' background', 156), (' balance', 157), (' balancing', 158), (' balustraded', 159), (' basking', 160), (' bath', 161), (' be', 162), (' beaming', 163), (' bean', 164), (' bear', 165), (' beard', 166), (' beauty', 167), (' became', 168), (' because', 169), (' becoming', 170), (' bed', 171), (' been', 172), (' before', 173), (' began', 174), (' begun', 175), (' behind', 176), (' being', 177), (' believed', 178), (' beneath', 179), (' bespoke', 180), (' better', 181), (' between', 182), (' big', 183), (' bits', 184), (' bitterness', 185), (' blocked', 186), (' born', 187), (' borne', 188), (' boudoir', 189), (' bravura', 190), (' break', 191), (' breaking', 192), (' breathing', 193), (' bric', 194), (' briefly', 195), (' brings', 196), (' bronzes', 197), (' brought', 198), (' brown', 199), (' brush', 200), (' bull', 201), (' business', 202), (' but', 203), (' buying', 204), (' by', 205), (' called', 206), (' came', 207), (' can', 208), (' canvas', 209), (' canvases', 210), (' cards', 211), (' care', 212), (' career', 213), (' caught', 214), (' central', 215), (' chair', 216), (' chap', 217), (' characteristic', 218), (' charming', 219), (' cheap', 220), (' check', 221), (' cheeks', 222), (' chest', 223), (' chimney', 224), (' chucked', 225), (' cigar', 226), (' cigarette', 227), (' cigars', 228), (' circulation', 229), (' circumstance', 230), (' circus', 231), (' claimed', 232), (' clasping', 233), (' clear', 234), (' cleverer', 235), (' close', 236), (' clue', 237), (' coat', 238), (' collapsed', 239), (' colour', 240), (' come', 241), (' comfortable', 242), (' coming', 243), (' companion', 244), (' compared', 245), (' complex', 246), (' confident', 247), (' congesting', 248), (' conjugal', 249), (' constraint', 250), (' consummate', 251), (' contended', 252), (' continued', 253), (' corner', 254), (' corrected', 255), (' could', 256), (' couldn', 257), (' count', 258), (' countenance', 259), (' couple', 260), (' course', 261), (' covered', 262), (' craft', 263), (' cried', 264), (' crossed', 265), (' crowned', 266), (' crumbled', 267), (' cry', 268), (' cured', 269), (' curiosity', 270), (' curious', 271), (' current', 272), (' curtains', 273), (' dabble', 274), (' damask', 275), (' dark', 276), (' dashed', 277), (' day', 278), (' days', 279), (' dead', 280), (' dear', 281), (' deep', 282), (' deerhound', 283), (' degree', 284), (' delicate', 285), (' demand', 286), (' denied', 287), (' deprecating', 288), (' deprecatingly', 289), (' desire', 290), (' destroyed', 291), (' destruction', 292), (' desultory', 293), (' detail', 294), (' diagnosis', 295), (' did', 296), (' didn', 297), (' died', 298), (' dim', 299), (' dimmest', 300), (' dingy', 301), (' dining', 302), (' disarming', 303), (' discovery', 304), (' discrimination', 305), (' discussion', 306), (' disdain', 307), (' disdained', 308), (' disease', 309), (' disguised', 310), (' display', 311), (' dissatisfied', 312), (' distinguished', 313), (' distract', 314), (' divert', 315), (' do', 316), (' doesn', 317), (' doing', 318), (' domestic', 319), (' don', 320), (' done', 321), (' donkey', 322), (' down', 323), (' dozen', 324), (' dragged', 325), (' drawing', 326), (' drawn', 327), (' dress', 328), (' drew', 329), (' dropped', 330), (' each', 331), (' earth', 332), (' ease', 333), (' easel', 334), (' easy', 335), (' echoed', 336), (' economy', 337), (' effect', 338), (' efforts', 339), (' egregious', 340), (' eighteenth', 341), (' elbow', 342), (' elegant', 343), (' else', 344), (' embarrassed', 345), (' enabled', 346), (' end', 347), (' endless', 348), (' enjoy', 349), (' enlightenment', 350), (' enough', 351), (' ensuing', 352), (' equally', 353), (' equanimity', 354), (' escape', 355), (' established', 356), (' etching', 357), (' even', 358), (' event', 359), (' ever', 360), (' everlasting', 361), (' every', 362), (' exasperated', 363), (' except', 364), (' excuse', 365), (' excusing', 366), (' existed', 367), (' expected', 368), (' exquisite', 369), (' exquisitely', 370), (' extenuation', 371), (' exterminating', 372), (' extracting', 373), (' eye', 374), (' eyebrows', 375), (' eyes', 376), (' face', 377), (' faces', 378), (' fact', 379), (' faded', 380), (' failed', 381), (' failure', 382), (' fair', 383), (' faith', 384), (' false', 385), (' familiar', 386), (' fancy', 387), (' fashionable', 388), (' fate', 389), (' feather', 390), (' feet', 391), (' fell', 392), (' fellow', 393), (' felt', 394), (' few', 395), (' fewer', 396), (' finality', 397), (' find', 398), (' fingers', 399), (' first', 400), (' fit', 401), (' fitting', 402), (' five', 403), (' flash', 404), (' flashed', 405), (' florid', 406), (' flowers', 407), (' fluently', 408), (' flung', 409), (' follow', 410), (' followed', 411), (' fond', 412), (' footstep', 413), (' for', 414), (' forced', 415), (' forcing', 416), (' forehead', 417), (' foreign', 418), (' foreseen', 419), (' forgive', 420), (' forgotten', 421), (' form', 422), (' formed', 423), (' forward', 424), (' fostered', 425), (' found', 426), (' foundations', 427), (' fragment', 428), (' fragments', 429), (' frame', 430), (' frames', 431), (' frequently', 432), (' friend', 433), (' from', 434), (' full', 435), (' fullest', 436), (' furiously', 437), (' furrowed', 438), (' garlanded', 439), (' garlands', 440), (' gave', 441), (' genial', 442), (' genius', 443), (' gesture', 444), (' get', 445), (' getting', 446), (' give', 447), (' given', 448), (' glad', 449), (' glanced', 450), (' glimpse', 451), (' gloried', 452), (' glory', 453), (' go', 454), (' going', 455), (' gone', 456), (' good', 457), (' got', 458), (' grace', 459), (' gradually', 460), (' gray', 461), (' grayish', 462), (' great', 463), (' greatest', 464), (' greatness', 465), (' grew', 466), (' groping', 467), (' growing', 468), (' had', 469), (' hadn', 470), (' hair', 471), (' half', 472), (' hall', 473), (' hand', 474), (' hands', 475), (' handsome', 476), (' hanging', 477), (' happen', 478), (' happened', 479), (' hard', 480), (' hardly', 481), (' have', 482), (' haven', 483), (' having', 484), (' he', 485), (' head', 486), (' hear', 487), (' heard', 488), (' heart', 489), (' height', 490), (' her', 491), (' here', 492), (' hermit', 493), (' herself', 494), (' hesitations', 495), (' hide', 496), (' high', 497), (' him', 498), (' himself', 499), (' hint', 500), (' his', 501), (' history', 502), (' holding', 503), (' home', 504), (' honour', 505), (' hooded', 506), (' hostess', 507), (' hot', 508), (' hour', 509), (' hours', 510), (' house', 511), (' how', 512), (' hung', 513), (' husband', 514), (' idea', 515), (' idle', 516), (' idling', 517), (' if', 518), (' immediately', 519), (' in', 520), (' incense', 521), (' indifferent', 522), (' inevitable', 523), (' inevitably', 524), (' inflexible', 525), (' insensible', 526), (' insignificant', 527), (' instinctively', 528), (' instructive', 529), (' interesting', 530), (' into', 531), (' ironic', 532), (' irony', 533), (' irrelevance', 534), (' irrevocable', 535), (' is', 536), (' it', 537), (' its', 538), (' itself', 539), (' jealousy', 540), (' just', 541), (' keep', 542), (' kept', 543), (' kind', 544), (' knees', 545), (' knew', 546), (' know', 547), (' known', 548), (' laid', 549), (' lair', 550), (' landing', 551), (' language', 552), (' last', 553), (' late', 554), (' later', 555), (' latter', 556), (' laugh', 557), (' laughed', 558), (' lay', 559), (' leading', 560), (' lean', 561), (' learned', 562), (' least', 563), (' leathery', 564), (' leave', 565), (' led', 566), (' left', 567), (' leisure', 568), (' lends', 569), (' lent', 570), (' let', 571), (' lies', 572), (' life', 573), (' lift', 574), (' lifted', 575), (' light', 576), (' lightly', 577), (' like', 578), (' liked', 579), (' line', 580), (' lines', 581), (' lingered', 582), (' lips', 583), (' lit', 584), (' little', 585), (' live', 586), (' loathing', 587), (' long', 588), (' longed', 589), (' longer', 590), (' look', 591), (' looked', 592), (' looking', 593), (' lose', 594), (' loss', 595), (' lounging', 596), (' lovely', 597), (' lucky', 598), (' lump', 599), (' luncheon', 600), (' luxury', 601), (' lying', 602), (' made', 603), (' make', 604), (' man', 605), (' manage', 606), (' managed', 607), (' mantel', 608), (' marble', 609), (' married', 610), (' may', 611), (' me', 612), (' meant', 613), (' mediocrity', 614), (' medium', 615), (' mentioned', 616), (' mere', 617), (' merely', 618), (' met', 619), (' might', 620), (' mighty', 621), (' millionaire', 622), (' mine', 623), (' minute', 624), (' minutes', 625), (' mirrors', 626), (' modest', 627), (' modesty', 628), (' moment', 629), (' money', 630), (' monumental', 631), (' mood', 632), (' morbidly', 633), (' more', 634), (' most', 635), (' mourn', 636), (' mourned', 637), (' moustache', 638), (' moved', 639), (' much', 640), (' muddling', 641), (' multiplied', 642), (' murmur', 643), (' muscles', 644), (' must', 645), (' my', 646), (' myself', 647), (' mysterious', 648), (' naive', 649), (' near', 650), (' nearly', 651), (' negatived', 652), (' nervous', 653), (' nervousness', 654), (' neutral', 655), (' never', 656), (' next', 657), (' no', 658), (' none', 659), (' not', 660), (' note', 661), (' nothing', 662), (' now', 663), (' nymphs', 664), (' oak', 665), (' object', 666), (' objects', 667), (' occurred', 668), (' oddly', 669), (' of', 670), (' off', 671), (' often', 672), (' oh', 673), (' old', 674), (' on', 675), (' once', 676), (' one', 677), (' ones', 678), (' only', 679), (' onto', 680), (' open', 681), (' or', 682), (' other', 683), (' our', 684), (' ourselves', 685), (' out', 686), (' outline', 687), (' oval', 688), (' over', 689), (' own', 690), (' packed', 691), (' paid', 692), (' paint', 693), (' painted', 694), (' painter', 695), (' painting', 696), (' pale', 697), (' paled', 698), (' palm', 699), (' panel', 700), (' panelling', 701), (' pardonable', 702), (' pardoned', 703), (' part', 704), (' passages', 705), (' passing', 706), (' past', 707), (' pastels', 708), (' pathos', 709), (' patient', 710), (' people', 711), (' perceptible', 712), (' perfect', 713), (' persistence', 714), (' persuasively', 715), (' phrase', 716), (' picture', 717), (' pictures', 718), (' pines', 719), (' pink', 720), (' place', 721), (' placed', 722), (' plain', 723), (' platitudes', 724), (' pleased', 725), (' pockets', 726), (' point', 727), (' poised', 728), (' poor', 729), (' portrait', 730), (' posing', 731), (' possessed', 732), (' poverty', 733), (' predicted', 734), (' preliminary', 735), (' presenting', 736), (' prestidigitation', 737), (' pretty', 738), (' previous', 739), (' price', 740), (' pride', 741), (' princely', 742), (' prism', 743), (' problem', 744), (' proclaiming', 745), (' prodigious', 746), (' profusion', 747), (' protest', 748), (' prove', 749), (' public', 750), (' purblind', 751), (' purely', 752), (' pushed', 753), (' put', 754), (' qualities', 755), (' quality', 756), (' queerly', 757), (' question', 758), (' quickly', 759), (' quietly', 760), (' quite', 761), (' quote', 762), (' rain', 763), (' raised', 764), (' random', 765), (' rather', 766), (' real', 767), (' really', 768), (' reared', 769), (' reason', 770), (' reassurance', 771), (' recovering', 772), (' recreated', 773), (' reflected', 774), (' reflection', 775), (' regrets', 776), (' relatively', 777), (' remained', 778), (' remember', 779), (' reminded', 780), (' repeating', 781), (' represented', 782), (' reproduction', 783), (' resented', 784), (' resolve', 785), (' resources', 786), (' rest', 787), (' rich', 788), (' ridiculous', 789), (' robbed', 790), (' romantic', 791), (' room', 792), (' rose', 793), (' rule', 794), (' run', 795), (' said', 796), (' same', 797), (' satisfaction', 798), (' savour', 799), (' saw', 800), (' say', 801), (' saying', 802), (' says', 803), (' scorn', 804), (' scornful', 805), (' secret', 806), (' see', 807), (' seemed', 808), (' seen', 809), (' self', 810), (' send', 811), (' sensation', 812), (' sensitive', 813), (' sent', 814), (' serious', 815), (' set', 816), (' sex', 817), (' shade', 818), (' shaking', 819), (' shall', 820), (' she', 821), (' shirked', 822), (' short', 823), (' should', 824), (' shoulder', 825), (' shoulders', 826), (' show', 827), (' showed', 828), (' showy', 829), (' shrug', 830), (' shrugged', 831), (' sight', 832), (' sign', 833), (' silent', 834), (' silver', 835), (' similar', 836), (' simpleton', 837), (' simplifications', 838), (' simply', 839), (' since', 840), (' single', 841), (' sitter', 842), (' sitters', 843), (' sketch', 844), (' skill', 845), (' slight', 846), (' slightly', 847), (' slowly', 848), (' small', 849), (' smile', 850), (' smiling', 851), (' sneer', 852), (' so', 853), (' solace', 854), (' some', 855), (' somebody', 856), (' something', 857), (' spacious', 858), (' spaniel', 859), (' speaking', 860), (' speculations', 861), (' spite', 862), (' splash', 863), (' square', 864), (' stairs', 865), (' stammer', 866), (' stand', 867), (' standing', 868), (' started', 869), (' stay', 870), (' still', 871), (' stocked', 872), (' stood', 873), (' stopped', 874), (' stopping', 875), (' straddling', 876), (' straight', 877), (' strain', 878), (' straining', 879), (' strange', 880), (' straw', 881), (' stream', 882), (' stroke', 883), (' strokes', 884), (' strolled', 885), (' struck', 886), (' studio', 887), (' stuff', 888), (' subject', 889), (' substantial', 890), (' suburban', 891), (' such', 892), (' suddenly', 893), (' suffered', 894), (' sugar', 895), (' suggested', 896), (' sunburn', 897), (' sunburnt', 898), (' sunlit', 899), (' superb', 900), (' sure', 901), (' surest', 902), (' surface', 903), (' surprise', 904), (' surprised', 905), (' surrounded', 906), (' suspected', 907), (' sweetness', 908), (' swelling', 909), (' swept', 910), (' swum', 911), (' table', 912), (' take', 913), (' taken', 914), (' talking', 915), (' tea', 916), (' tears', 917), (' technicalities', 918), (' tell', 919), (' tells', 920), (' tempting', 921), (' terra', 922), (' terrace', 923), (' terraces', 924), (' terribly', 925), (' than', 926), (' that', 927), (' the', 928), (' their', 929), (' them', 930), (' then', 931), (' there', 932), (' therefore', 933), (' they', 934), (' thin', 935), (' thing', 936), (' things', 937), (' think', 938), (' this', 939), (' thither', 940), (' those', 941), (' though', 942), (' thought', 943), (' three', 944), (' threshold', 945), (' threw', 946), (' through', 947), (' throwing', 948), (' tie', 949), (' till', 950), (' time', 951), (' timorously', 952), (' tinge', 953), (' tips', 954), (' tired', 955), (' to', 956), (' told', 957), (' tone', 958), (' tones', 959), (' too', 960), (' took', 961), (' tottering', 962), (' touched', 963), (' toward', 964), (' trace', 965), (' trade', 966), (' transmute', 967), (' traps', 968), (' travelled', 969), (' tribute', 970), (' tributes', 971), (' tricks', 972), (' tried', 973), (' trouser', 974), (' true', 975), (' truth', 976), (' turned', 977), (' twenty', 978), (' twice', 979), (' twirling', 980), (' unaccountable', 981), (' uncertain', 982), (' under', 983), (' underlay', 984), (' underneath', 985), (' understand', 986), (' unexpected', 987), (' untouched', 988), (' unusual', 989), (' up', 990), (' upon', 991), (' upset', 992), (' upstairs', 993), (' us', 994), (' used', 995), (' usual', 996), (' value', 997), (' varnishing', 998), (' vases', 999), (' veins', 1000), (' velveteen', 1001), (' very', 1002), (' villa', 1003), (' vindicated', 1004), (' virtuosity', 1005), (' vista', 1006), (' vocation', 1007), (' voice', 1008), (' wall', 1009), (' wander', 1010), (' want', 1011), (' wanted', 1012), (' wants', 1013), (' was', 1014), (' wasn', 1015), (' watched', 1016), (' watching', 1017), (' water', 1018), (' waves', 1019), (' way', 1020), (' weekly', 1021), (' weeks', 1022), (' welcome', 1023), (' went', 1024), (' were', 1025), (' what', 1026), (' when', 1027), (' whenever', 1028), (' where', 1029), (' which', 1030), (' while', 1031), (' white', 1032), (' who', 1033), (' whole', 1034), (' whom', 1035), (' why', 1036), (' wide', 1037), (' widow', 1038), (' wife', 1039), (' wild', 1040), (' wincing', 1041), (' window', 1042), (' wish', 1043), (' with', 1044), (' without', 1045), (' wits', 1046), (' woman', 1047), (' women', 1048), (' won', 1049), (' wonder', 1050), (' wondered', 1051), (' word', 1052), (' work', 1053), (' working', 1054), (' worth', 1055), (' would', 1056), (' wouldn', 1057), (' year', 1058), (' years', 1059), (' yellow', 1060), (' yet', 1061), (' you', 1062), (' younger', 1063), (' your', 1064), (' yourself', 1065), ('!', 1066), ('!\"', 1067), ('!--', 1068), ('\"', 1069), ('\"--', 1070), ('\":', 1071), ('\";', 1072), ('\"?', 1073), (\"'\", 1074), (\"'?\", 1075), (\"'d\", 1076), (\"'ll\", 1077), (\"'re\", 1078), (\"'s\", 1079), (\"'t\", 1080), (\"'ve\", 1081), ('(', 1082), (')', 1083), (',', 1084), (',\"', 1085), ('-', 1086), ('--', 1087), ('--\"', 1088), ('--_', 1089), ('.', 1090), ('.\"', 1091), (\".'\", 1092), ('.)', 1093), (':', 1094), (';', 1095), ('?', 1096), ('?\"', 1097), (\"?'\", 1098), ('A', 1099), ('Ah', 1100), ('And', 1101), ('Are', 1102), ('As', 1103), ('Be', 1104), ('Begin', 1105), ('But', 1106), ('By', 1107), ('Come', 1108), ('Destroyed', 1109), ('Don', 1110), ('For', 1111), ('Gisburn', 1112), ('Gisburns', 1113), ('Grindles', 1114), ('Hang', 1115), ('Has', 1116), ('He', 1117), ('His', 1118), ('How', 1119), ('I', 1120), ('If', 1121), ('In', 1122), ('It', 1123), ('Jack', 1124), ('Money', 1125), ('Moon', 1126), ('Mr', 1127), ('Mrs', 1128), ('My', 1129), ('Never', 1130), ('Of', 1131), ('Oh', 1132), ('Once', 1133), ('Only', 1134), ('Or', 1135), ('Poor', 1136), ('She', 1137), ('That', 1138), ('The', 1139), ('Then', 1140), ('There', 1141), ('This', 1142), ('Though', 1143), ('We', 1144), ('Well', 1145), ('What', 1146), ('When', 1147), ('Why', 1148), ('Yes', 1149), ('You', 1150), ('_', 1151), ('_--', 1152), ('_.', 1153), ('a', 1154), ('above', 1155), ('ah', 1156), ('all', 1157), ('am', 1158), ('an', 1159), ('and', 1160), ('any', 1161), ('as', 1162), ('because', 1163), ('brac', 1164), ('breeding', 1165), ('but', 1166), ('century', 1167), ('chair', 1168), ('chairs', 1169), ('closets', 1170), ('clown', 1171), ('colour', 1172), ('coming', 1173), ('confident', 1174), ('cotta', 1175), ('couldn', 1176), ('cured', 1177), ('curtains', 1178), ('dancers', 1179), ('deadening', 1180), ('deploring', 1181), ('dragged', 1182), ('echnique', 1183), ('effects', 1184), ('even', 1185), ('famille', 1186), ('felt', 1187), ('fond', 1188), ('for', 1189), ('forming', 1190), ('four', 1191), ('had', 1192), ('has', 1193), ('have', 1194), ('he', 1195), ('his', 1196), ('house', 1197), ('humoured', 1198), ('if', 1199), ('interesting', 1200), ('it', 1201), ('jardiniere', 1202), ('just', 1203), ('lift', 1204), ('light', 1205), ('likeness', 1206), ('mechanically', 1207), ('mine', 1208), ('my', 1209), ('not', 1210), ('obituary', 1211), ('of', 1212), ('oh', 1213), ('on', 1214), ('one', 1215), ('only', 1216), ('or', 1217), ('panelled', 1218), ('piece', 1219), ('presses', 1220), ('quite', 1221), ('rather', 1222), ('room', 1223), ('rooms', 1224), ('rose', 1225), ('rs', 1226), ('say', 1227), ('see', 1228), ('she', 1229), ('since', 1230), ('so', 1231), ('stalk', 1232), ('stream', 1233), ('strongest', 1234), ('strongly', 1235), ('sweetly', 1236), ('table', 1237), ('that', 1238), ('the', 1239), ('they', 1240), ('though', 1241), ('till', 1242), ('trees', 1243), ('tubes', 1244), ('ubject', 1245), ('verte', 1246), ('was', 1247), ('way', 1248), ('were', 1249), ('what', 1250), ('<|endoftext|>', 1251), ('<|unk|>', 1252), ('<|pad|>', 1253)])"
      ]
     },
     "execution_count": 24,
     "metadata": {},
     "output_type": "execute_result"
    }
   ],
   "source": [
    "vocab.items()"
   ]
  },
  {
   "cell_type": "code",
   "execution_count": 25,
   "metadata": {},
   "outputs": [
    {
     "data": {
      "text/plain": [
       "1251"
      ]
     },
     "execution_count": 25,
     "metadata": {},
     "output_type": "execute_result"
    }
   ],
   "source": [
    "vocab['<|endoftext|>']"
   ]
  },
  {
   "cell_type": "code",
   "execution_count": 13,
   "metadata": {},
   "outputs": [
    {
     "data": {
      "text/plain": [
       "1252"
      ]
     },
     "execution_count": 13,
     "metadata": {},
     "output_type": "execute_result"
    }
   ],
   "source": [
    "vocab['<|unk|>']"
   ]
  },
  {
   "cell_type": "code",
   "execution_count": 21,
   "metadata": {},
   "outputs": [
    {
     "data": {
      "text/plain": [
       "'I HAD always th'"
      ]
     },
     "execution_count": 21,
     "metadata": {},
     "output_type": "execute_result"
    }
   ],
   "source": [
    "data[:15]"
   ]
  },
  {
   "cell_type": "code",
   "execution_count": 20,
   "metadata": {},
   "outputs": [
    {
     "data": {
      "text/plain": [
       "[1120, 26, 116, 1252, 1251]"
      ]
     },
     "execution_count": 20,
     "metadata": {},
     "output_type": "execute_result"
    }
   ],
   "source": [
    "tokenizer.encode(data[:15])"
   ]
  },
  {
   "cell_type": "code",
   "execution_count": 22,
   "metadata": {},
   "outputs": [
    {
     "data": {
      "text/plain": [
       "[1120, 26, 1252, 1251]"
      ]
     },
     "execution_count": 22,
     "metadata": {},
     "output_type": "execute_result"
    }
   ],
   "source": [
    "tokenizer.encode(data[:10])"
   ]
  },
  {
   "cell_type": "code",
   "execution_count": 23,
   "metadata": {},
   "outputs": [
    {
     "data": {
      "text/plain": [
       "'I  HAD  always <|unk|>'"
      ]
     },
     "execution_count": 23,
     "metadata": {},
     "output_type": "execute_result"
    }
   ],
   "source": [
    "tokenizer.decode(tokenizer.encode(data[:15]))"
   ]
  },
  {
   "cell_type": "code",
   "execution_count": null,
   "metadata": {},
   "outputs": [],
   "source": []
  },
  {
   "cell_type": "code",
   "execution_count": 26,
   "metadata": {},
   "outputs": [
    {
     "name": "stdout",
     "output_type": "stream",
     "text": [
      "\u001b[0;31mInit signature:\u001b[0m \u001b[0mTokenizerDataset\u001b[0m\u001b[0;34m(\u001b[0m\u001b[0mtexts\u001b[0m\u001b[0;34m,\u001b[0m \u001b[0mtokenizer\u001b[0m\u001b[0;34m,\u001b[0m \u001b[0mmax_length\u001b[0m\u001b[0;34m=\u001b[0m\u001b[0;32mNone\u001b[0m\u001b[0;34m,\u001b[0m \u001b[0mpad_token\u001b[0m\u001b[0;34m=\u001b[0m\u001b[0;34m'<|pad|>'\u001b[0m\u001b[0;34m)\u001b[0m\u001b[0;34m\u001b[0m\u001b[0;34m\u001b[0m\u001b[0m\n",
      "\u001b[0;31mDocstring:\u001b[0m     \n",
      "An abstract class representing a :class:`Dataset`.\n",
      "\n",
      "All datasets that represent a map from keys to data samples should subclass\n",
      "it. All subclasses should overwrite :meth:`__getitem__`, supporting fetching a\n",
      "data sample for a given key. Subclasses could also optionally overwrite\n",
      ":meth:`__len__`, which is expected to return the size of the dataset by many\n",
      ":class:`~torch.utils.data.Sampler` implementations and the default options\n",
      "of :class:`~torch.utils.data.DataLoader`. Subclasses could also\n",
      "optionally implement :meth:`__getitems__`, for speedup batched samples\n",
      "loading. This method accepts list of indices of samples of batch and returns\n",
      "list of samples.\n",
      "\n",
      ".. note::\n",
      "  :class:`~torch.utils.data.DataLoader` by default constructs an index\n",
      "  sampler that yields integral indices.  To make it work with a map-style\n",
      "  dataset with non-integral indices/keys, a custom sampler must be provided.\n",
      "\u001b[0;31mInit docstring:\u001b[0m\n",
      "Initialize the dataset.\n",
      "Args:\n",
      "    texts: List of text strings.\n",
      "    tokenizer: The tokenizer instance (must have encode method).\n",
      "    max_length: Maximum length of tokens (for padding/truncation). Defaults to None (no truncation).\n",
      "    pad_token: The token to use for padding. Defaults to \"<|pad|>\".\n",
      "\u001b[0;31mFile:\u001b[0m           ~/Desktop/mb_packages/mb_gpt/mb_gpt/tokenizers/dataloader.py\n",
      "\u001b[0;31mType:\u001b[0m           type\n",
      "\u001b[0;31mSubclasses:\u001b[0m     "
     ]
    }
   ],
   "source": [
    "TokenizerDataset?"
   ]
  },
  {
   "cell_type": "code",
   "execution_count": 37,
   "metadata": {},
   "outputs": [],
   "source": [
    "dataset = TokenizerDataset(data,tokenizer)  ## testing dataset creation. Its added in the dataloader"
   ]
  },
  {
   "cell_type": "code",
   "execution_count": 64,
   "metadata": {},
   "outputs": [],
   "source": [
    "dataloader_init = TokenizerDataLoader(data,tokenizer,batch_size=16) ## this will have dataset inside"
   ]
  },
  {
   "cell_type": "code",
   "execution_count": 65,
   "metadata": {},
   "outputs": [],
   "source": [
    "dataloader = dataloader_init.get_dataloader()"
   ]
  },
  {
   "cell_type": "code",
   "execution_count": 74,
   "metadata": {},
   "outputs": [
    {
     "data": {
      "text/plain": [
       "tensor([1099, 1251])"
      ]
     },
     "execution_count": 74,
     "metadata": {},
     "output_type": "execute_result"
    }
   ],
   "source": [
    "dataloader.dataset.__getitem__(3)"
   ]
  },
  {
   "cell_type": "code",
   "execution_count": 66,
   "metadata": {},
   "outputs": [
    {
     "name": "stdout",
     "output_type": "stream",
     "text": [
      "tensor([[1120, 1251]])\n"
     ]
    }
   ],
   "source": [
    "for i in dataloader:\n",
    "    print(i)\n",
    "    break"
   ]
  },
  {
   "cell_type": "code",
   "execution_count": null,
   "metadata": {},
   "outputs": [],
   "source": []
  },
  {
   "cell_type": "code",
   "execution_count": null,
   "metadata": {},
   "outputs": [],
   "source": []
  }
 ],
 "metadata": {
  "kernelspec": {
   "display_name": "Python 3",
   "language": "python",
   "name": "python3"
  },
  "language_info": {
   "codemirror_mode": {
    "name": "ipython",
    "version": 3
   },
   "file_extension": ".py",
   "mimetype": "text/x-python",
   "name": "python",
   "nbconvert_exporter": "python",
   "pygments_lexer": "ipython3",
   "version": "3.11.6"
  }
 },
 "nbformat": 4,
 "nbformat_minor": 2
}
